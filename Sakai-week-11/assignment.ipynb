{
 "cells": [
  {
   "cell_type": "markdown",
   "id": "ec01a133",
   "metadata": {},
   "source": [
    "# Outline\n",
    "\n",
    "- Sorting data: from naive to sophisticated.\n",
    "- From merging sorted arrays to decomposing an unsorted array into multiple singular (and therefore sorted) arrays to be merged.\n",
    "- How to measure performance. Big-oh notation. Asymptotic behavior\n",
    "- Binary search.\n",
    "- Other topics to discuss:\n",
    "  - Examples here are done with lists of integer values, but can be generalized to any object that has a comparable method (discuss how define `__lt__` for that purpose).\n",
    "  - Maybe a good time to introduce generics in Python.\n",
    "  - In place v. return sort\n",
    "\n",
    "# Summary of assignments\n",
    "\n",
    "This assignment comprises \\*\\*\\* problems.\n",
    "\n",
    "- ...\n"
   ]
  },
  {
   "cell_type": "markdown",
   "id": "44e619fe",
   "metadata": {},
   "source": [
    "# Naive sorting\n",
    "\n",
    "Bubble sort in array with $n$ elements performs $n$ iterations. In the first iterations there are $n$ passes, in the second $n-1$, and so on. The last iteration performs a single pass. The total number of passes is\n",
    "\n",
    "$$ 1 + 2 + \\ldots + n = \\frac{n(n+1)}{2} $$\n"
   ]
  },
  {
   "cell_type": "code",
   "execution_count": 12,
   "id": "7e4bb6e0",
   "metadata": {},
   "outputs": [],
   "source": [
    "def naive_sort(arr: list) -> list:\n",
    "    \"\"\"Naive sort implementation using bubble sort algorithm.\"\"\"\n",
    "    n: int = len(arr)\n",
    "    for i in range(n):\n",
    "        for j in range(0, n - i - 1):\n",
    "            if arr[j] > arr[j + 1]:\n",
    "                # Use plain swap instead of Pythonic tuple swap for clarity\n",
    "                # Αlso good opportunity to discuss swapping without a temp variable\n",
    "                # and without tupple unpacking (XOR or addition/subtraction based)\n",
    "                temp = arr[j]\n",
    "                arr[j] = arr[j + 1]\n",
    "                arr[j + 1] = temp\n",
    "    return arr"
   ]
  },
  {
   "cell_type": "markdown",
   "id": "82a1bb48",
   "metadata": {},
   "source": [
    "# Merge of two sorted arrays\n"
   ]
  },
  {
   "cell_type": "code",
   "execution_count": 13,
   "id": "d7dc5d27",
   "metadata": {},
   "outputs": [],
   "source": [
    "def merge(arr1: list, arr2: list) -> list:\n",
    "    \"\"\"Merge two sorted arrays into a single sorted array. Avoid Pythonic code\n",
    "    with list.extend() or list slicing for clarity.\"\"\"\n",
    "    merged: list = [None] * (len(arr1) + len(arr2))\n",
    "    i: int = 0\n",
    "    j: int = 0\n",
    "    k: int = 0\n",
    "    while i < len(arr1) and j < len(arr2):\n",
    "        if arr1[i] < arr2[j]:\n",
    "            merged[k] = arr1[i]\n",
    "            i += 1\n",
    "        else:\n",
    "            merged[k] = arr2[j]\n",
    "            j += 1\n",
    "        k += 1\n",
    "    # Fill any remaining elements from either array\n",
    "    while i < len(arr1):\n",
    "        merged[k] = arr1[i]\n",
    "        i += 1\n",
    "        k += 1\n",
    "    while j < len(arr2):\n",
    "        merged[k] = arr2[j]\n",
    "        j += 1\n",
    "        k += 1\n",
    "    return merged"
   ]
  },
  {
   "cell_type": "markdown",
   "id": "f1d5c24a",
   "metadata": {},
   "source": [
    "### Demonstrate `merge`\n"
   ]
  },
  {
   "cell_type": "code",
   "execution_count": 14,
   "id": "002bd957",
   "metadata": {},
   "outputs": [
    {
     "name": "stdout",
     "output_type": "stream",
     "text": [
      "[0, 1, 2, 3, 4, 5, 6, 7]\n"
     ]
    }
   ],
   "source": [
    "abcd = [0, 2, 4, 6]\n",
    "efgh = [1, 3, 5, 7]\n",
    "abcdefgh = merge(abcd, efgh)\n",
    "print(abcdefgh)"
   ]
  },
  {
   "cell_type": "markdown",
   "id": "4f247138",
   "metadata": {},
   "source": [
    "### Visualize recursion\n",
    "\n",
    "First, step by step using the following code\n"
   ]
  },
  {
   "cell_type": "code",
   "execution_count": 15,
   "id": "1553b494",
   "metadata": {},
   "outputs": [
    {
     "name": "stdout",
     "output_type": "stream",
     "text": [
      "[5, 6]\n",
      "[0, 1]\n",
      "[2, 4]\n",
      "[3, 7]\n",
      "[0, 1, 5, 6]\n",
      "[2, 3, 4, 7]\n",
      "[0, 1, 2, 3, 4, 5, 6, 7]\n"
     ]
    }
   ],
   "source": [
    "a = [6]\n",
    "b = [5]\n",
    "c = [1]\n",
    "d = [0]\n",
    "e = [4]\n",
    "f = [2]\n",
    "g = [7]\n",
    "h = [3]\n",
    "\n",
    "ab = merge(a, b)\n",
    "print(ab)\n",
    "cd = merge(c, d)\n",
    "print(cd)\n",
    "ef = merge(e, f)\n",
    "print(ef)\n",
    "gh = merge(g, h)\n",
    "print(gh)\n",
    "\n",
    "abdc = merge(ab, cd)\n",
    "print(abdc)\n",
    "efgh = merge(ef, gh)\n",
    "print(efgh)\n",
    "\n",
    "abcdefgh = merge(abdc, efgh)\n",
    "print(abcdefgh)"
   ]
  },
  {
   "cell_type": "markdown",
   "id": "2759a20d",
   "metadata": {},
   "source": [
    "Then by going back to the code above and substituting with on-the-spot cut-and-paste: `abcd` and `efgh` with `merge(ab, cd)` and `merge(ef, gh)`, and so on.\n"
   ]
  },
  {
   "cell_type": "code",
   "execution_count": 16,
   "id": "90052dc9",
   "metadata": {},
   "outputs": [
    {
     "name": "stdout",
     "output_type": "stream",
     "text": [
      "[0, 1, 2, 3, 4, 5, 6, 7]\n",
      "[0, 1, 2, 3, 4, 5, 6, 7]\n"
     ]
    }
   ],
   "source": [
    "a = [6]\n",
    "b = [5]\n",
    "c = [1]\n",
    "d = [0]\n",
    "e = [4]\n",
    "f = [2]\n",
    "g = [7]\n",
    "h = [3]\n",
    "\n",
    "ab = merge(a, b)\n",
    "cd = merge(c, d)\n",
    "ef = merge(e, f)\n",
    "gh = merge(g, h)\n",
    "\n",
    "abdc = merge(ab, cd)\n",
    "efgh = merge(ef, gh)\n",
    "\n",
    "abcdefgh = merge(abdc, efgh)\n",
    "\n",
    "print(abcdefgh)\n",
    "\n",
    "print(merge(merge(merge(a, b), merge(c, d)), merge(merge(e, f), merge(g, h))))"
   ]
  },
  {
   "cell_type": "markdown",
   "id": "c6c47c7b",
   "metadata": {},
   "source": [
    "### Recursion in practice\n",
    "\n",
    "How can we write code do to the following if the input is an array like\n",
    "`[6,5,1,0,4,2,7,3]`? We need to covert it to arrays `[6]`, `[5]`, `[1]`, `[0]`, `[4]`, `[2]`, `[7]`, `[3]`.\n",
    "\n",
    "```python\n",
    "merge(\n",
    "    merge(                               # \\\n",
    "      merge([6], [6]),  # returns [5, 6] #  } returns [0,1,5,6] \\\n",
    "      merge([1], [0])), # returns [0, 1] # /                     \\\n",
    "                                         #                        } returns [0,1,2,3,4,5,6,7]\n",
    "    merge(                               # \\                     /\n",
    "      merge([4], [2]),  # returns [2, 4] #  } returns [2,3,4,7] /\n",
    "      merge([7], [3])   # returns [3, 7] # /\n",
    "    )\n",
    "  )\n",
    "```\n",
    "\n",
    "Write a method that takes a list of size $2^p$ and splits it into two halves and returns them.\n"
   ]
  },
  {
   "cell_type": "code",
   "execution_count": 17,
   "id": "15c96e47",
   "metadata": {},
   "outputs": [
    {
     "name": "stdout",
     "output_type": "stream",
     "text": [
      "[6, 5, 1, 0]\n",
      "[4, 2, 7, 3]\n",
      "[6, 5]\n",
      "[1, 0]\n",
      "[4, 2]\n",
      "[7, 3]\n",
      "[6]\n",
      "[5]\n",
      "[1]\n",
      "[0]\n",
      "[4]\n",
      "[2]\n",
      "[7]\n",
      "[3]\n"
     ]
    }
   ],
   "source": [
    "def split_in_half(arr: list) -> list:\n",
    "    \"\"\"Split an array into two halves and return them as a list.\"\"\"\n",
    "    mid: int = len(arr) // 2\n",
    "    left: list = arr[:mid]\n",
    "    right: list = arr[mid:]\n",
    "    return [left, right]\n",
    "\n",
    "\n",
    "# Example\n",
    "test = [6, 5, 1, 0, 4, 2, 7, 3]\n",
    "left, right = split_in_half(test)\n",
    "print(left)  # Output: [6, 5, 1, 0]\n",
    "print(right)  # Output: [4, 2, 7, 3]\n",
    "\n",
    "left_left, left_right = split_in_half(left)\n",
    "print(left_left)  # Output: [6, 5]\n",
    "print(left_right)  # Output: [1, 0]\n",
    "\n",
    "right_left, right_right = split_in_half(right)\n",
    "print(right_left)  # Output: [4, 2]\n",
    "print(right_right)  # Output: [7, 3]\n",
    "\n",
    "# Further splits\n",
    "left_left_left, left_left_right = split_in_half(left_left)\n",
    "print(left_left_left)  # Output: [6]\n",
    "print(left_left_right)  # Output: [5]\n",
    "\n",
    "left_right_left, left_right_right = split_in_half(left_right)\n",
    "print(left_right_left)  # Output: [1]\n",
    "print(left_right_right)  # Output: [0]\n",
    "\n",
    "right_left_left, right_left_right = split_in_half(right_left)\n",
    "print(right_left_left)  # Output: [4]\n",
    "print(right_left_right)  # Output: [2]\n",
    "\n",
    "right_right_left, right_right_right = split_in_half(right_right)\n",
    "print(right_right_left)  # Output: [7]\n",
    "print(right_right_right)  # Output: [3]"
   ]
  },
  {
   "cell_type": "markdown",
   "id": "669f42ac",
   "metadata": {},
   "source": [
    "### Keep splitting in half\n"
   ]
  },
  {
   "cell_type": "code",
   "execution_count": 18,
   "id": "f2aff80d",
   "metadata": {},
   "outputs": [
    {
     "name": "stdout",
     "output_type": "stream",
     "text": [
      "\n",
      "About to process array [6, 5, 1, 0, 4, 2, 7, 3]\n",
      "\tArray size is 8 > 1, must split again.\n",
      "\t\tLeft half: [6, 5, 1, 0], Right half: [4, 2, 7, 3]\n",
      "\n",
      "About to process array [6, 5, 1, 0]\n",
      "\tArray size is 4 > 1, must split again.\n",
      "\t\tLeft half: [6, 5], Right half: [1, 0]\n",
      "\n",
      "About to process array [6, 5]\n",
      "\tArray size is 2 > 1, must split again.\n",
      "\t\tLeft half: [6], Right half: [5]\n",
      "\n",
      "About to process array [6]\n",
      "\tArray of size 1, nothing to do.\n",
      "\n",
      "About to process array [5]\n",
      "\tArray of size 1, nothing to do.\n",
      "\n",
      "About to process array [1, 0]\n",
      "\tArray size is 2 > 1, must split again.\n",
      "\t\tLeft half: [1], Right half: [0]\n",
      "\n",
      "About to process array [1]\n",
      "\tArray of size 1, nothing to do.\n",
      "\n",
      "About to process array [0]\n",
      "\tArray of size 1, nothing to do.\n",
      "\n",
      "About to process array [4, 2, 7, 3]\n",
      "\tArray size is 4 > 1, must split again.\n",
      "\t\tLeft half: [4, 2], Right half: [7, 3]\n",
      "\n",
      "About to process array [4, 2]\n",
      "\tArray size is 2 > 1, must split again.\n",
      "\t\tLeft half: [4], Right half: [2]\n",
      "\n",
      "About to process array [4]\n",
      "\tArray of size 1, nothing to do.\n",
      "\n",
      "About to process array [2]\n",
      "\tArray of size 1, nothing to do.\n",
      "\n",
      "About to process array [7, 3]\n",
      "\tArray size is 2 > 1, must split again.\n",
      "\t\tLeft half: [7], Right half: [3]\n",
      "\n",
      "About to process array [7]\n",
      "\tArray of size 1, nothing to do.\n",
      "\n",
      "About to process array [3]\n",
      "\tArray of size 1, nothing to do.\n"
     ]
    }
   ],
   "source": [
    "def interesting_function(arr: list) -> None:\n",
    "    print(f\"\\nAbout to process array {arr}\")\n",
    "    if len(arr) == 1:\n",
    "        print(\"\\tArray of size 1, nothing to do.\")\n",
    "    elif len(arr) > 1:\n",
    "        print(f\"\\tArray size is {len(arr)} > 1, must split again.\")\n",
    "        left, right = split_in_half(arr)\n",
    "        print(f\"\\t\\tLeft half: {left}, Right half: {right}\")\n",
    "        interesting_function(left)\n",
    "        interesting_function(right)\n",
    "\n",
    "\n",
    "interesting_function(test)"
   ]
  },
  {
   "cell_type": "markdown",
   "id": "88ff11cb",
   "metadata": {},
   "source": [
    "### Simple mergesort\n",
    "\n",
    "The method above takes an array and breaks it down to single-element arrays. These arrays are, by definition sorted. As we already demonstrated that we can feed them into method `merge` and combine them into a single, also sorted, array. Putting these two techniques together:\n"
   ]
  },
  {
   "cell_type": "code",
   "execution_count": 19,
   "id": "8ca49bea",
   "metadata": {},
   "outputs": [
    {
     "name": "stdout",
     "output_type": "stream",
     "text": [
      "array before: [6, 5, 1, 0, 4, 2, 7, 3]\n",
      " array after: [0, 1, 2, 3, 4, 5, 6, 7]\n"
     ]
    }
   ],
   "source": [
    "def interesting_merge_function(arr: list) -> list:\n",
    "    \"\"\"Recursively sort an array using merge sort algorithm.\"\"\"\n",
    "    result = arr\n",
    "    if len(arr) > 1:\n",
    "        left, right = split_in_half(arr)\n",
    "        interesting_left = interesting_merge_function(left)\n",
    "        interesting_right = interesting_merge_function(right)\n",
    "        result = merge(interesting_left, interesting_right)\n",
    "    return result\n",
    "\n",
    "\n",
    "print(f\"array before: {test}\\n array after: {interesting_merge_function(test)}\")"
   ]
  },
  {
   "cell_type": "markdown",
   "id": "f553cb87",
   "metadata": {},
   "source": [
    "### Iterative mergesort\n",
    "\n",
    "Explain the difference between recursive and iterative approaches.\n"
   ]
  },
  {
   "cell_type": "code",
   "execution_count": 20,
   "id": "cc51f161",
   "metadata": {},
   "outputs": [
    {
     "name": "stdout",
     "output_type": "stream",
     "text": [
      "in: [] -> out: []\n",
      "in: [1] -> out: [1]\n",
      "in: [2, 1] -> out: [1, 2]\n",
      "in: [6, 5, 1, 0, 4, 2, 7, 3] -> out: [0, 1, 2, 3, 4, 5, 6, 7]\n",
      "in: [5, 4, 3, 2, 1, 0] -> out: [0, 1, 2, 3, 4, 5]\n",
      "in: [3, 1, 4, 1, 5, 9, 2, 6, 5] -> out: [1, 1, 2, 3, 4, 5, 5, 6, 9]\n"
     ]
    }
   ],
   "source": [
    "def iterative_merge_sort(arr: list) -> list:\n",
    "    \"\"\"Bottom-up (iterative) merge sort for lists of integers.\n",
    "\n",
    "    Uses the existing `merge` function that merges two sorted lists.\n",
    "\n",
    "    Contract:\n",
    "    - Input: arr: list[int]\n",
    "    - Output: new sorted list[int] (does not modify input)\n",
    "    - Error modes: if input contains non-comparable elements, behavior is undefined\n",
    "\n",
    "    Approach:\n",
    "    - Start with run_size = 1 and iteratively merge adjacent runs of length run_size.\n",
    "    - Double run_size each pass until run_size >= len(arr).\n",
    "\n",
    "    Time: O(n log n), Space: O(n) due to merged buffers.\n",
    "    \"\"\"\n",
    "    n = len(arr)\n",
    "    # Fast path\n",
    "    if n <= 1:\n",
    "        return arr.copy()\n",
    "\n",
    "    # Work on copies to avoid mutating the original list\n",
    "    src = [x for x in arr]\n",
    "\n",
    "    # Temporary list for merged output; we'll swap src/dest each pass\n",
    "    dest = [None] * n\n",
    "\n",
    "    run_size = 1\n",
    "    while run_size < n:\n",
    "        # Merge pairs of runs of length run_size\n",
    "        for start in range(0, n, 2 * run_size):\n",
    "            mid = min(start + run_size, n)\n",
    "            end = min(start + 2 * run_size, n)\n",
    "            left = src[start:mid]\n",
    "            right = src[mid:end]\n",
    "            merged = merge(left, right)\n",
    "            # copy merged back into dest\n",
    "            dest[start : start + len(merged)] = merged\n",
    "        # swap buffers\n",
    "        src, dest = dest, src\n",
    "        run_size *= 2\n",
    "    return src\n",
    "\n",
    "\n",
    "# Demo and quick smoke tests\n",
    "if __name__ == \"__main__\":\n",
    "    tests = [\n",
    "        [],\n",
    "        [1],\n",
    "        [2, 1],\n",
    "        [6, 5, 1, 0, 4, 2, 7, 3],\n",
    "        [5, 4, 3, 2, 1, 0],\n",
    "        [3, 1, 4, 1, 5, 9, 2, 6, 5],\n",
    "    ]\n",
    "    for t in tests:\n",
    "        print(f\"in: {t} -> out: {iterative_merge_sort(t)}\")"
   ]
  },
  {
   "cell_type": "markdown",
   "id": "befde2b0",
   "metadata": {},
   "source": [
    "## Binary search\n",
    "\n",
    "Start with simple linear search.\n"
   ]
  },
  {
   "cell_type": "code",
   "execution_count": 21,
   "id": "de6da36b",
   "metadata": {},
   "outputs": [],
   "source": [
    "def linear_search(arr: list, target: int) -> bool:\n",
    "    found = False\n",
    "    i = 0\n",
    "    while not found and i < len(arr):\n",
    "        found = arr[i] == target\n",
    "        i += 1\n",
    "    return found"
   ]
  },
  {
   "cell_type": "markdown",
   "id": "447aed8d",
   "metadata": {},
   "source": [
    "- Best case scenario, `arr[0] == target`.\n",
    "- Worst case scenario, `arr[len(arr)-1] == target` or `target` $\\not\\in$ `arr`.\n",
    "\n",
    "Next assume the array is ordered already.\n"
   ]
  },
  {
   "cell_type": "code",
   "execution_count": 22,
   "id": "3551fc4d",
   "metadata": {},
   "outputs": [
    {
     "name": "stdout",
     "output_type": "stream",
     "text": [
      "linear_search(arr, 0) = True\n",
      "binary_search(arr, 0) = True\n",
      "linear_search(arr, 5) = True\n",
      "binary_search(arr, 5) = True\n",
      "linear_search(arr, 9) = True\n",
      "binary_search(arr, 9) = True\n",
      "linear_search(arr, -1) = False\n",
      "binary_search(arr, -1) = False\n",
      "linear_search(arr, 10) = False\n",
      "binary_search(arr, 10) = False\n"
     ]
    }
   ],
   "source": [
    "def binary_search(arr: list, target: int) -> bool:\n",
    "    low = 0\n",
    "    high = len(arr) - 1\n",
    "    found = False\n",
    "    while not found and low <= high:\n",
    "        mid = (low + high) // 2\n",
    "        found = arr[mid] == target\n",
    "        if arr[mid] < target:\n",
    "            low = mid + 1\n",
    "        else:\n",
    "            high = mid - 1\n",
    "    return found\n",
    "\n",
    "# Demo and quick smoke tests\n",
    "if __name__ == \"__main__\":   \n",
    "    arr = [0, 1, 2, 3, 4, 5, 6, 7, 8, 9]\n",
    "    targets = [0, 5, 9, -1, 10]\n",
    "    for target in targets:\n",
    "        print(f\"linear_search(arr, {target}) = {linear_search(arr, target)}\")\n",
    "        print(f\"binary_search(arr, {target}) = {binary_search(arr, target)}\")"
   ]
  },
  {
   "cell_type": "markdown",
   "id": "2d41d484",
   "metadata": {},
   "source": [
    "Discuss $\\mathcal O(\\log_2 n)$ but point out the extra effort required to sort the array ($\\mathcal O(n\\log_2 n)$)."
   ]
  }
 ],
 "metadata": {
  "kernelspec": {
   "display_name": "Python 3",
   "language": "python",
   "name": "python3"
  },
  "language_info": {
   "codemirror_mode": {
    "name": "ipython",
    "version": 3
   },
   "file_extension": ".py",
   "mimetype": "text/x-python",
   "name": "python",
   "nbconvert_exporter": "python",
   "pygments_lexer": "ipython3",
   "version": "3.12.1"
  }
 },
 "nbformat": 4,
 "nbformat_minor": 5
}
