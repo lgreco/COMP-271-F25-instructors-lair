{
 "cells": [
  {
   "cell_type": "markdown",
   "id": "b2673226",
   "metadata": {},
   "source": [
    "# Outline\n",
    "\n",
    "- Who needs a priority queue? Emergency departments, data compression algorithms, etc.\n",
    "- How they work? By organizing data so that the highest (or lowest) valued element is the next one to return.\n",
    "\n",
    "## Example\n",
    "\n",
    "Waiting room of an ER, in order of arrivals:\n",
    "\n",
    "`[broken angle, stroke, sprained wrist, kidney stone]`\n",
    "\n",
    "Reorganized as a priority queue:\n",
    "\n",
    "`[stroke, broken angle, sprained wrist, kidney stone]`\n",
    "\n",
    "After the first case (`stroke`) is taken, the list will be reorganized with the most severe case moved to the front.\n",
    "\n",
    "`[kidney stone, broken angle, sprained wrist]`\n",
    "\n",
    "Notice that the list is _not_ sorted; just the most important item, based on some metric, is placed at the front. The only requirement here is that `list[0]` is always the most important item. The remaining elements can be randomly organized as far as we are concerned.\n"
   ]
  },
  {
   "cell_type": "markdown",
   "id": "f76710ba",
   "metadata": {},
   "source": [
    "## Naive priority queue\n",
    "\n",
    "- Linear scan to find the most importnat element and bring it to the front.\n",
    "- Implement with integers before writing a generic class.\n",
    "- Intro to generics\n"
   ]
  },
  {
   "cell_type": "code",
   "execution_count": null,
   "id": "8d710c8c",
   "metadata": {},
   "outputs": [],
   "source": [
    "class SimplePriorityQ:\n",
    "\n",
    "    _DEFAULT_CAPACITY: int = 10\n",
    "\n",
    "    def __init__(self, capacity: int = _DEFAULT_CAPACITY) -> None:\n",
    "        \"\"\"Initialize an empty priority queue with given capacity.\"\"\"\n",
    "        self._underlying: list[int] = []\n",
    "        self._capacity: int = capacity\n",
    "        self._size: int = 0\n",
    "\n",
    "    def insert(self, value: int) -> None:\n",
    "        \"\"\"Insert value into the priority queue.\"\"\"\n",
    "        if self._size >= self._capacity:\n",
    "            raise Exception(\"Priority queue is full\")\n",
    "        self._underlying.append(value)\n",
    "        self._size += 1\n",
    "        self._move_important_to_front()\n",
    "\n",
    "    def _move_important_to_front(self):\n",
    "        max_idx = 0\n",
    "        for i in range(1, len(self._underlying)):\n",
    "            if self._underlying[i] > self._underlying[max_idx]:\n",
    "                max_idx = i\n",
    "        # swap\n",
    "        temp = self._underlying[0]\n",
    "        self._underlying[0] = self._underlying[max_idx]\n",
    "        self._underlying[max_idx] = temp\n",
    "\n",
    "    def remove_max(self) -> int:\n",
    "        \"\"\"Remove and return the maximum element from the priority queue.\"\"\"\n",
    "        if self.is_empty():\n",
    "            raise Exception(\"Priority queue is empty\")\n",
    "        most_important = self._underlying[0]\n",
    "        self._underlying[0] = self._underlying[len(self._underlying) - 1]\n",
    "        temp_list = [None] * (len(self._underlying) - 1)\n",
    "        for i in range(1, len(self._underlying)):\n",
    "            temp_list[i - 1] = self._underlying[i]\n",
    "        self._underlying = temp_list\n",
    "        self._move_important_to_front\n",
    "        self._size -= 1\n",
    "        return most_important\n",
    "\n",
    "    def is_empty(self) -> bool:\n",
    "        \"\"\"Return True if the priority queue is empty, False otherwise.\"\"\"\n",
    "        return len(self._underlying) == 0"
   ]
  }
 ],
 "metadata": {
  "kernelspec": {
   "display_name": "Python 3",
   "language": "python",
   "name": "python3"
  },
  "language_info": {
   "codemirror_mode": {
    "name": "ipython",
    "version": 3
   },
   "file_extension": ".py",
   "mimetype": "text/x-python",
   "name": "python",
   "nbconvert_exporter": "python",
   "pygments_lexer": "ipython3",
   "version": "3.12.1"
  }
 },
 "nbformat": 4,
 "nbformat_minor": 5
}
