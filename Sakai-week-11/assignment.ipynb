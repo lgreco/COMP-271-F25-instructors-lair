{
 "cells": [
  {
   "cell_type": "markdown",
   "id": "1649243c",
   "metadata": {},
   "source": [
    "# Priority queue with heap\n",
    "\n",
    "Develop a class `MyFirstPriorityQueue` that implements a heap-based priority queue. \n"
   ]
  },
  {
   "cell_type": "code",
   "execution_count": null,
   "id": "29383b96",
   "metadata": {},
   "outputs": [],
   "source": [
    "class MyFirstPriorityQueue:\n",
    "    \"\"\"A heap-based priority queue implementation.\"\"\"\n",
    "\n",
    "    def __init__(self):"
   ]
  }
 ],
 "metadata": {
  "kernelspec": {
   "display_name": "Python 3",
   "language": "python",
   "name": "python3"
  },
  "language_info": {
   "codemirror_mode": {
    "name": "ipython",
    "version": 3
   },
   "file_extension": ".py",
   "mimetype": "text/x-python",
   "name": "python",
   "nbconvert_exporter": "python",
   "pygments_lexer": "ipython3",
   "version": "3.12.1"
  }
 },
 "nbformat": 4,
 "nbformat_minor": 5
}
