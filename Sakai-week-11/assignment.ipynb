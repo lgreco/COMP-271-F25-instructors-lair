{
 "cells": [
  {
   "cell_type": "markdown",
   "id": "ec01a133",
   "metadata": {},
   "source": [
    "# Outline\n",
    "\n",
    "- Concept of binary tree;\n",
    "- Binary node with `__lt__`\n",
    "- Binary tree with iterative insertion and searches\n",
    "- in-order traversal - use of stack for iterative code\n",
    "- compare elegance of recursive\n",
    "- ask students to modify classes `BinaryNode` and `SimpleBinaryTree` to capture frequencies of words.\n",
    "- use URL to Project Gutenbert to scan a book. Count its total words as well as the cardinality of its words.\n",
    "\n",
    "# Reading material besides the textbook\n",
    "\n",
    "## TOPIC SPECIFIC\n",
    "\n",
    "\n",
    "## Python programming in general\n",
    "\n",
    "* [Effective Python](https://learning.oreilly.com/library/view/effective-python-125/9780138172398/): an overall good book, similar to Bloch's *Effective Java* with good and useful tips for good programming. Available from O'Reilly at no cost with LUC login.\n",
    "\n",
    "* Bill Lubanovic's [Introducing Python](https://learning.oreilly.com/library/view/introducing-python-3rd/9781098174392/) is an excellent resource in general. Available from O'Reilly at no cost with LUC login.\n",
    "\n",
    "* [Python Cookbook](https://learning.oreilly.com/library/view/python-cookbook-3rd/9781449357337/) by Dave Beazley. Available from O'Reilly at no cost with LUC login.\n",
    "\n",
    "*  [Robust Python](https://learning.oreilly.com/library/view/robust-python/9781098100650/) by Patrick Viafore is a bit advanced but some good intro stuff can be used in the course. Available from O'Reilly at no cost with LUC login.\n",
    "\n",
    "* [Fluent Python](https://learning.oreilly.com/library/view/fluent-python-2nd/9781492056348/) by Luciano Ramalho is my \"go to\" place for ABCs and patterns. Available from O'Reilly at no cost with LUC login.\n",
    "\n",
    "\n",
    "\n",
    "# Summary of assignments\n",
    "\n",
    "This assignment comprises \\*\\*\\* problems.\n",
    "\n",
    "- ...\n"
   ]
  },
  {
   "cell_type": "markdown",
   "id": "12579779",
   "metadata": {},
   "source": [
    "# Binary trees\n",
    "\n",
    "Definition, structure, node object\n",
    "\n",
    "![](/workspaces/cta-as-LL-metaphor/Sakai-week-11/binary_node.png)\n"
   ]
  },
  {
   "cell_type": "code",
   "execution_count": null,
   "id": "e35309cd",
   "metadata": {},
   "outputs": [],
   "source": [
    "class BinaryNode:\n",
    "    def __init__(self, value):\n",
    "        self.value = value\n",
    "        self.left = None\n",
    "        self.right = None\n",
    "\n",
    "    def set_left(self, node):\n",
    "        self.left = node\n",
    "\n",
    "    def set_right(self, node):\n",
    "        self.right = node\n",
    "\n",
    "    def has_left(self):\n",
    "        return self.left is not None\n",
    "\n",
    "    def has_right(self):\n",
    "        return self.right is not None\n",
    "\n",
    "    def get_left(self):\n",
    "        return self.left\n",
    "\n",
    "    def get_right(self):\n",
    "        return self.right\n",
    "\n",
    "    def get_value(self):\n",
    "        return self.value\n",
    "\n",
    "    def __lt__(self, other):\n",
    "        return self.value < other.value\n",
    "\n",
    "    def __repr__(self):\n",
    "        return f\"BinaryNode({self.value})\""
   ]
  },
  {
   "cell_type": "markdown",
   "id": "230a8f4e",
   "metadata": {},
   "source": [
    "### A binary tree class\n"
   ]
  },
  {
   "cell_type": "code",
   "execution_count": null,
   "id": "4b103306",
   "metadata": {},
   "outputs": [],
   "source": [
    "class SimpleBinaryTree:\n",
    "    def __init__(self):\n",
    "        self.root = None\n",
    "\n",
    "    def set_root(self, node):\n",
    "        self.root = node\n",
    "\n",
    "    def get_root(self):\n",
    "        return self.root\n",
    "\n",
    "    def is_empty(self):\n",
    "        return self.root is None\n",
    "\n",
    "    def insert(self, value):\n",
    "        new_node = BinaryNode(value)\n",
    "        if self.is_empty():\n",
    "            self.set_root(new_node)\n",
    "        else:\n",
    "            self._insert_recursively(self.root, new_node)\n",
    "\n",
    "    def _insert_recursively(self, current_node, new_node):\n",
    "        if new_node < current_node:\n",
    "            if current_node.has_left():\n",
    "                self._insert_recursively(current_node.get_left(), new_node)\n",
    "            else:\n",
    "                current_node.set_left(new_node)\n",
    "        elif new_node > current_node:\n",
    "            if current_node.has_right():\n",
    "                self._insert_recursively(current_node.get_right(), new_node)\n",
    "            else:\n",
    "                current_node.set_right(new_node)\n",
    "\n",
    "    def inorder_traversal(self):\n",
    "        return self._inorder_recursively(self.root)\n",
    "\n",
    "    def _inorder_recursively(self, node):\n",
    "        if node is None:\n",
    "            return []\n",
    "        return (\n",
    "            self._inorder_recursively(node.get_left())\n",
    "            + [node.get_value()]\n",
    "            + self._inorder_recursively(node.get_right())\n",
    "        )\n",
    "    \n",
    "    def exists(self, value):\n",
    "        found = False\n",
    "        if not self.is_empty():\n",
    "            current = self.root\n",
    "            while not found and current is not None:\n",
    "                found = value == current.get_value()\n",
    "                if not found:\n",
    "                    if value < current.get_value():\n",
    "                        current = current.get_left()\n",
    "                    else:\n",
    "                        current = current.get_right()\n",
    "        return found"
   ]
  },
  {
   "cell_type": "markdown",
   "id": "4aaa8b48",
   "metadata": {},
   "source": [
    "### Placement of nodes\n",
    "\n",
    "![](/workspaces/cta-as-LL-metaphor/Sakai-week-11/binary_tree.png)\n"
   ]
  },
  {
   "cell_type": "code",
   "execution_count": 16,
   "id": "ad04fad4",
   "metadata": {},
   "outputs": [
    {
     "name": "stdout",
     "output_type": "stream",
     "text": [
      "['all', 'and', 'bosom', 'buried', 'by', 'clouds', 'deep', 'discontent', 'glorious', 'house', 'in', 'is', \"lour'd\", 'made', 'now', 'ocean', 'of', 'our', 'summer', 'sun', 'that', 'the', 'this', 'upon', 'winter', 'york']\n"
     ]
    }
   ],
   "source": [
    "test = \"now is the winter of our discontent made glorious summer by this sun of york and all the clouds that lour'd upon our house in the deep bosom of the ocean buried\"\n",
    "tree = SimpleBinaryTree()\n",
    "for word in test.split():\n",
    "    tree.insert(word)\n",
    "\n",
    "# Get the inorder traversal of the tree\n",
    "inorder_result = tree.inorder_traversal()\n",
    "\n",
    "print(inorder_result)"
   ]
  }
 ],
 "metadata": {
  "kernelspec": {
   "display_name": "Python 3",
   "language": "python",
   "name": "python3"
  },
  "language_info": {
   "codemirror_mode": {
    "name": "ipython",
    "version": 3
   },
   "file_extension": ".py",
   "mimetype": "text/x-python",
   "name": "python",
   "nbconvert_exporter": "python",
   "pygments_lexer": "ipython3",
   "version": "3.12.1"
  }
 },
 "nbformat": 4,
 "nbformat_minor": 5
}
