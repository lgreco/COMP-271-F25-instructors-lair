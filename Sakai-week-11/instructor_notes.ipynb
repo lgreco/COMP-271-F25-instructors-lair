{
 "cells": [
  {
   "cell_type": "markdown",
   "id": "ec01a133",
   "metadata": {},
   "source": [
    "# Outline\n",
    "\n",
    "- Binary trees as arrays\n",
    "- Explain basic structure using note with 2 children\n",
    "- Demonstrate but do not code traversal of a tree\n",
    "- Discuss insertion in binary search tree\n",
    "- Look at a complete tree and ask if there is a simpler way to represent\n",
    "- Discuss how node content can be mapped in array (ok, list)\n",
    "- Develop index functions for left/right children and parent for each list[position]\n",
    "- Pivot discussion to a priority queue -- describe functionality\n",
    "- Suggest $\\mathcal O (n)$ immplementation with linear search that swaps [0] and [most_important_idx]\n",
    "- Conceptualize $\\mathcal O(\\log n)$ approach with binary tree.\n",
    "- Map binary tree to array\n",
    "- Operationalize at array level\n",
    "\n",
    "# Reading material besides the textbook\n",
    "\n",
    "## TOPIC SPECIFIC\n",
    "\n",
    "## Python programming in general\n",
    "\n",
    "* [Effective Python](https://learning.oreilly.com/library/view/effective-python-125/9780138172398/): an overall good book, similar to Bloch's *Effective Java* with good and useful tips for good programming. Available from O'Reilly at no cost with LUC login.\n",
    "\n",
    "* Bill Lubanovic's [Introducing Python](https://learning.oreilly.com/library/view/introducing-python-3rd/9781098174392/) is an excellent resource in general. Available from O'Reilly at no cost with LUC login.\n",
    "\n",
    "* [Python Cookbook](https://learning.oreilly.com/library/view/python-cookbook-3rd/9781449357337/) by Dave Beazley. Available from O'Reilly at no cost with LUC login.\n",
    "\n",
    "*  [Robust Python](https://learning.oreilly.com/library/view/robust-python/9781098100650/) by Patrick Viafore is a bit advanced but some good intro stuff can be used in the course. Available from O'Reilly at no cost with LUC login.\n",
    "\n",
    "* [Fluent Python](https://learning.oreilly.com/library/view/fluent-python-2nd/9781492056348/) by Luciano Ramalho is my \"go to\" place for ABCs and patterns. Available from O'Reilly at no cost with LUC login.\n",
    "\n"
   ]
  },
  {
   "cell_type": "markdown",
   "id": "12579779",
   "metadata": {},
   "source": [
    "# Binary trees\n",
    "\n",
    "Definition, structure, node object\n",
    "\n",
    "![](/workspaces/cta-as-LL-metaphor/Sakai-week-11/binary_node.png)\n"
   ]
  },
  {
   "cell_type": "code",
   "execution_count": null,
   "id": "e35309cd",
   "metadata": {},
   "outputs": [],
   "source": [
    "class BinaryNode:\n",
    "    def __init__(self, value):\n",
    "        self.value = value\n",
    "        self.left = None\n",
    "        self.right = None\n",
    "\n",
    "    # Bunch of set/get methods need to be writen here.\n",
    "    \n",
    "    def __lt__(self, other):\n",
    "        return self.value < other.value\n",
    "\n",
    "    def __repr__(self):\n",
    "        return f\"BinaryNode({self.value})\""
   ]
  }
 ],
 "metadata": {
  "kernelspec": {
   "display_name": "Python 3",
   "language": "python",
   "name": "python3"
  },
  "language_info": {
   "codemirror_mode": {
    "name": "ipython",
    "version": 3
   },
   "file_extension": ".py",
   "mimetype": "text/x-python",
   "name": "python",
   "nbconvert_exporter": "python",
   "pygments_lexer": "ipython3",
   "version": "3.12.1"
  }
 },
 "nbformat": 4,
 "nbformat_minor": 5
}
