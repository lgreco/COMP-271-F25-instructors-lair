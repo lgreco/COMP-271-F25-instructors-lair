{
 "cells": [
  {
   "cell_type": "markdown",
   "id": "1938f63d",
   "metadata": {},
   "source": [
    "# Summary\n",
    "\n",
    "This set comprises ... problems:\n",
    "\n",
    "- Middle of double linked list\n"
   ]
  },
  {
   "cell_type": "markdown",
   "id": "63788a23",
   "metadata": {},
   "source": [
    "# Middle of a double linked list\n",
    "\n",
    "A popular question in job interviews is to find the middle of a simple linked list, i.e., a list whose nodes point only to the next node which traversing the list once. The trick here is to traverse the list using two different pointers, one twice as fast as the other. When the faster point is at the end of the list, the slower is at the middle. The snippet below shows the idea.\n",
    "\n",
    "```python\n",
    "slow = head\n",
    "fast = head\n",
    "while fast.has_next() and fast.get_next().has_next():\n",
    "    slow = slow.get_next()\n",
    "    fast = fast.get_next().get_next()\n",
    "return slow\n",
    "```\n",
    "\n",
    "In this exercise, we ask you to find the middle of a double linked list, with pointers that move at the same speed, i.e., one node at a time. Add your method\n",
    "\n",
    "```python\n",
    "def find_middle(self) -> \"Node\" | Node:\n",
    "```\n",
    "\n",
    "in class `DoublyLinkedList`.\n"
   ]
  },
  {
   "cell_type": "markdown",
   "id": "bb612615",
   "metadata": {},
   "source": [
    "## Solution\n",
    "\n",
    "File `nfs_DoublyLinkedList.py` has the method for this exercise. The idea is to begin traversing from both ends until the two pointers meet in the middle or near the middle.\n"
   ]
  },
  {
   "cell_type": "code",
   "execution_count": null,
   "id": "3a09388c",
   "metadata": {},
   "outputs": [],
   "source": [
    "# nfs_DoublyLinkedList.py\n",
    "        middle_node = None\n",
    "        if not self.is_empty():\n",
    "            forward = self.head\n",
    "            backward = self.tail\n",
    "            while forward != backward and forward.get_next() != backward:\n",
    "                forward = forward.get_next()\n",
    "                backward = backward.get_prev()\n",
    "            middle_node = forward\n",
    "        return middle_node"
   ]
  },
  {
   "cell_type": "markdown",
   "id": "f503c870",
   "metadata": {},
   "source": [
    "# Detect a loop\n",
    "\n",
    "Another favorite question for a job interview is to tell if a simple (single) linked list has a loop. In this exercise then write a method\n",
    "\n",
    "```python\n",
    "def has_loop(self) -> bool:\n",
    "```\n",
    "\n",
    "that returns `True` is the double linked list has a loop, `False` otherwise. \n"
   ]
  },
  {
   "cell_type": "markdown",
   "id": "737e8afe",
   "metadata": {},
   "source": [
    "## Solution\n",
    "\n",
    "File `nfs_DoublyLinkedList.py` has the method for this exercise. The idea is similar to detecting a loop in a singly-linked list.\n",
    "```python\n",
    "        loop = False\n",
    "        if not self.is_empty():\n",
    "            slow = self.head\n",
    "            fast = self.head\n",
    "            while fast.has_next() and fast.get_next().has_next() and not loop:\n",
    "                slow = slow.get_next()\n",
    "                fast = fast.get_next().get_next()\n",
    "                loop = slow == fast\n",
    "        return loop\n",
    "```\n"
   ]
  }
 ],
 "metadata": {
  "kernelspec": {
   "display_name": "Python 3",
   "language": "python",
   "name": "python3"
  },
  "language_info": {
   "name": "python",
   "version": "3.12.1"
  }
 },
 "nbformat": 4,
 "nbformat_minor": 5
}
