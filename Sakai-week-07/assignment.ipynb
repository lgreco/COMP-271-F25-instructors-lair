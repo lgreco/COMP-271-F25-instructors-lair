{
 "cells": [
  {
   "cell_type": "markdown",
   "id": "954b7fbe",
   "metadata": {},
   "source": [
    "# Reverse list to string\n",
    "\n",
    "Write a method\n",
    "\n",
    "```python\n",
    "def reverse_list_string(data: list[str], tab_by: int) -> str | None:\n",
    "```\n",
    "\n",
    "that _returns_ a string with the contents of the `data` list in reverse order, one element per line, and each element progressively tabbed by as many spaces as to the right as specified by parameter `tab_by`. If the list is empty or null, the method should return 'None'. For example, if\n",
    "\n",
    "```python\n",
    "data = ['Howard', 'Jarvis', 'Morse', 'Loyola']\n",
    "```\n",
    "\n",
    "and `tab_by = 2`, the method should _return_ the string\n",
    "\n",
    "```python\n",
    "Loyola\n",
    "  Morse\n",
    "    Jarvis\n",
    "      Howard\n",
    "```\n",
    "\n",
    "The method should not use any imported modules nor should it alter the input array `data` in any way. You may not create any temporary arrays either. You may not use methods `join` nor `reversed`. Any loops you use in the method should traverse the input array `data` from front to end. A reverse loop\n",
    "\n",
    "```python\n",
    "    for i in range(len(data)-1, -1, -1): ...\n",
    "```\n",
    "\n",
    "is **not** an acceptable solution, nor is the expression `len(data)-1-i` or its equivalent, anywhere in your code.\n",
    "There should be no magic values in your method. Your method should have one and only one return statement. No inner methods or recursion or negative array indices can be used. The method should have a docstring and should be well narrated with comments.\n"
   ]
  },
  {
   "cell_type": "markdown",
   "id": "63842c88",
   "metadata": {},
   "source": [
    "## Solution\n"
   ]
  },
  {
   "cell_type": "code",
   "execution_count": null,
   "id": "d023cdc9",
   "metadata": {},
   "outputs": [],
   "source": [
    "TAB_SIZE = 2\n",
    "\n",
    "\n",
    "def reverse_list_string(data: list[str], tab_by: int = TAB_SIZE) -> str | None:\n",
    "\n",
    "    reverse_string = None\n",
    "\n",
    "    if data is not None and len(data) > 0:\n",
    "\n",
    "        SPACING = \" \" * tab_by * len(data)\n",
    "        NEWLINE = \"\\n\"\n",
    "        reverse_string = \"\"\n",
    "\n",
    "        for i in range(len(data)):\n",
    "            reverse_string = NEWLINE + SPACING + data[i] + reverse_string\n",
    "            SPACING = SPACING[tab_by:]\n",
    "\n",
    "    return reverse_string\n",
    "\n",
    "\n",
    "# quick test\n",
    "data = [\"Howard\", \"Jarvis\", \"Morse\", \"Loyola\"]\n",
    "print(reverse_list_string(data))\n",
    "print(reverse_list_string(None))\n",
    "print(reverse_list_string([]))"
   ]
  },
  {
   "cell_type": "markdown",
   "id": "69bcaaf9",
   "metadata": {},
   "source": [
    "# Compare list content\n",
    "\n",
    "Write a method\n",
    "\n",
    "```python\n",
    "def measure_similarity(target: list[str], reference: list[str]) -> float:\n",
    "```\n",
    "\n",
    "that returns a value $0 \\leq s \\leq 1$ defined as\n",
    "\n",
    "$$\n",
    "s = \\frac{\\text{number of elements from }\\texttt{target}\\text{ that exist in }\\texttt{reference}}{\\text{number of elements in }\\texttt{target}}\n",
    "$$\n"
   ]
  },
  {
   "cell_type": "markdown",
   "id": "53e9cf0e",
   "metadata": {},
   "source": [
    "## Solution\n"
   ]
  },
  {
   "cell_type": "code",
   "execution_count": null,
   "id": "d03f8f45",
   "metadata": {},
   "outputs": [],
   "source": [
    "def measure_similarity(target: list[str], reference: list[str]) -> float:\n",
    "\n",
    "    result = 0.0\n",
    "    if len(target) > 0 and len(reference) > 0:\n",
    "        matches = 0\n",
    "        for t in target:\n",
    "            if t in reference:\n",
    "                matches += 1\n",
    "        result = matches / len(target)\n",
    "    return result\n",
    "\n",
    "\n",
    "# quick test\n",
    "target = [\"a\", \"b\", \"c\", \"d\"]\n",
    "reference = [\"c\", \"d\", \"e\", \"f\"]\n",
    "print(measure_similarity(target, reference))  # expect 0.5\n",
    "print(measure_similarity([], reference))  # expect 0.0\n",
    "print(measure_similarity(target, []))  # expect 0.0\n",
    "print(measure_similarity([], []))  # expect 0.0\n",
    "print(measure_similarity([\"a\", \"b\"], [\"c\", \"d\"]))  # expect 0.0\n",
    "print(measure_similarity([\"a\", \"b\"], [\"a\", \"b\"]))  # expect 1.0"
   ]
  },
  {
   "cell_type": "markdown",
   "id": "49b41047",
   "metadata": {},
   "source": [
    "# Report list comparison\n",
    "\n",
    "Write a method\n",
    "\n",
    "```python\n",
    "def report_similarity(target: list[str], reference: list[str]) -> float:\n",
    "```\n",
    "\n",
    "that returns a string with the result of a comparison between two lists given to method `measure_similarity` earlier, as a percentage value with two decimal digits. For example, if\n",
    "\n",
    "```python\n",
    "target = [\"a\", \"b\", \"c\", \"d\"]\n",
    "reference = [\"c\", \"d\", \"e\", \"f\"]\n",
    "```\n",
    "\n",
    "the method should return the string `0.50%`.\n",
    "\n",
    "For this method you may want to read a bit about [_f-strings_](https://docs.python.org/3/tutorial/inputoutput.html#formatted-string-literals) and [_format specifiers_](https://docs.python.org/3/library/string.html#formatspec). The Python documents on these two topics are, admittedly, not very engaging. RealPython has a [comprehensive tutorial](https://realpython.com/python-formatted-output/). And there is always [Python Cheat Sheet](https://www.pythoncheatsheet.org/cheatsheet/string-formatting) to the rescue!\n"
   ]
  },
  {
   "cell_type": "code",
   "execution_count": null,
   "id": "419873d9",
   "metadata": {},
   "outputs": [],
   "source": [
    "def report_similarity(target: list[str], reference: list[str]) -> str:\n",
    "\n",
    "    return f\"{measure_similarity(target, reference):.2%}\"\n",
    "\n",
    "\n",
    "# quick test\n",
    "target = [\"a\", \"b\", \"c\", \"d\"]\n",
    "reference = [\"c\", \"d\", \"e\", \"f\"]\n",
    "print(report_similarity(target, reference))  # expect \"50.00%\"\n",
    "print(report_similarity([], reference))  # expect \"0.00%\"\n",
    "print(report_similarity(target, []))  # expect \"0.00%\"\n",
    "print(report_similarity([], []))  # expect \"0.00%\"\n",
    "print(report_similarity([\"a\", \"b\"], [\"c\", \"d\"]))  # expect \"0.00%\"\n",
    "print(report_similarity([\"a\", \"b\"], [\"a\", \"b\"]))  # expect \"100.00%\""
   ]
  },
  {
   "cell_type": "markdown",
   "id": "e15f5538",
   "metadata": {},
   "source": [
    "# Count frequencies\n",
    "\n",
    "Many situations require that we count the frequency of certain items. In data compression, for example, we want frequent letters to take less space. This had led to the letters E, T, A, I, N, and M to have the shortest symbols in [Morse Code](https://en.wikipedia.org/wiki/Morse_code).\n",
    "The arrangement of letters on typewritters and computer keyboards also reflects letter frequency. And let's not get started with how many points we get for words like `OXYPHENBUTAZONE` -- over 1700 points when placed strategically on a _Scrabble_ board, according to the collective wisdom of Reddit.\n",
    "\n",
    "A simple method to count frequencies in a string that only lower case letters and spaces, is to use a dictionary as shown below.\n"
   ]
  },
  {
   "cell_type": "code",
   "execution_count": null,
   "id": "a76dc600",
   "metadata": {},
   "outputs": [],
   "source": [
    "def simple_frequency_counter(message: str) -> dict[str, int]:\n",
    "\n",
    "    frequency = {}\n",
    "\n",
    "    if message is not None and len(message) > 0:\n",
    "\n",
    "        for char in message:\n",
    "            if char in frequency:\n",
    "                frequency[char] += 1\n",
    "            else:\n",
    "                frequency[char] = 1\n",
    "\n",
    "    return frequency\n",
    "\n",
    "\n",
    "print(simple_frequency_counter(\"hello world\"))"
   ]
  },
  {
   "cell_type": "markdown",
   "id": "b48f9195",
   "metadata": {},
   "source": [
    "One problem with dictionaries is that they require more memory. An array can do the job with less. So let's try this.\n",
    "\n",
    "Write a method\n",
    "\n",
    "```python\n",
    "def efficient_frequency_counter(message: str) -> list[int]:\n",
    "```\n",
    "\n",
    "that returns an array with the frequencies of symbols in the given string. The input string comprises only lower case letters and the space character. No other symbols (such as punctuation marks or numbers or upper case letters) are present. The string is of sufficient length and complexity to [contain every letter in the english alphabet at least once](https://en.wikipedia.org/wiki/Pangram), for example:\n",
    "\n",
    "```python\n",
    "pangram = \"sphinx of black quartz judge my vow\"\n",
    "```\n",
    "\n",
    "You may verify the efficiency of your code with the following simple test."
   ]
  },
  {
   "cell_type": "code",
   "execution_count": null,
   "id": "5cfa576b",
   "metadata": {},
   "outputs": [],
   "source": [
    "import sys # to check memory usage\n",
    "\n",
    "pangram = \"sphinx of black quartz judge my vow\"\n",
    "\n",
    "dict_freq = simple_frequency_counter(pangram) # method provided above\n",
    "list_freq = efficient_frequency_counter(pangram) # your method\n",
    "print(sys.getsizeof(dict_freq), \"bytes for dict\")\n",
    "print(sys.getsizeof(list_freq), \"bytes for list\")"
   ]
  },
  {
   "cell_type": "markdown",
   "id": "afd8a83a",
   "metadata": {},
   "source": [
    "A dictionary requires about 832 bytes, while a list (when done right) requires 272 bytes. This may seem a trivial improvement at a time when we pay about $0.05 per gigabyte of memory. And yet being frugal pays off. Memory may not always be abundant, especially when we write code for small devices and controllers. Learning how to be economical with memory is always a good skill."
   ]
  },
  {
   "cell_type": "markdown",
   "id": "58c0ded5",
   "metadata": {},
   "source": [
    "## Solution\n"
   ]
  },
  {
   "cell_type": "code",
   "execution_count": null,
   "id": "4da81e11",
   "metadata": {},
   "outputs": [],
   "source": [
    "def efficient_frequency_counter(message: str) -> list[int]:\n",
    "\n",
    "    LETTERS = 26\n",
    "    OFFSET = ord(\"a\")\n",
    "    SPACE = \" \"\n",
    "    frequency = [0] * (LETTERS + 1)  # 26 letters + space\n",
    "    for char in message:\n",
    "        if char == SPACE:\n",
    "            frequency[LETTERS] += 1\n",
    "        else:\n",
    "            frequency[ord(char) - OFFSET] += 1\n",
    "    return frequency"
   ]
  }
 ],
 "metadata": {
  "kernelspec": {
   "display_name": "Python 3",
   "language": "python",
   "name": "python3"
  },
  "language_info": {
   "codemirror_mode": {
    "name": "ipython",
    "version": 3
   },
   "file_extension": ".py",
   "mimetype": "text/x-python",
   "name": "python",
   "nbconvert_exporter": "python",
   "pygments_lexer": "ipython3",
   "version": "3.12.1"
  }
 },
 "nbformat": 4,
 "nbformat_minor": 5
}
