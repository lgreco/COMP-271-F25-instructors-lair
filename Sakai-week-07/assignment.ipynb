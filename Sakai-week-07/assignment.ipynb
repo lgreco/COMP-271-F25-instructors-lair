{
 "cells": [
  {
   "cell_type": "markdown",
   "id": "1938f63d",
   "metadata": {},
   "source": [
    "# Summary\n",
    "\n",
    "This set comprises ... problems:\n",
    "\n",
    "- Middle of double linked list\n",
    "- Loop is double linked list\n"
   ]
  },
  {
   "cell_type": "markdown",
   "id": "63788a23",
   "metadata": {},
   "source": [
    "# Middle of a double linked list\n",
    "\n",
    "A popular question in job interviews is to find the middle of a simple linked list, i.e., a list whose nodes point only to the next node which traversing the list once. The trick here is to traverse the list using two different pointers, one twice as fast as the other. When the faster point is at the end of the list, the slower is at the middle. The snippet below shows the idea.\n",
    "\n",
    "```python\n",
    "slow = head\n",
    "fast = head\n",
    "while fast.has_next() and fast.get_next().has_next():\n",
    "    slow = slow.get_next()\n",
    "    fast = fast.get_next().get_next()\n",
    "return slow\n",
    "```\n",
    "\n",
    "In this exercise, we ask you to find the middle of a double linked list, with pointers that move at the same speed, i.e., one node at a time. Add your method\n",
    "\n",
    "```python\n",
    "def find_middle(self) -> \"Node\" | Node:\n",
    "```\n",
    "\n",
    "in class `DoublyLinkedList`.\n"
   ]
  },
  {
   "cell_type": "markdown",
   "id": "bb612615",
   "metadata": {},
   "source": [
    "## Solution\n",
    "\n",
    "File `nfs_DoublyLinkedList.py` has the method for this exercise. The idea is to begin traversing from both ends until the two pointers meet in the middle or near the middle.\n"
   ]
  },
  {
   "cell_type": "code",
   "execution_count": 1,
   "id": "3a09388c",
   "metadata": {},
   "outputs": [
    {
     "ename": "IndentationError",
     "evalue": "unexpected indent (658031604.py, line 2)",
     "output_type": "error",
     "traceback": [
      "  \u001b[36mCell\u001b[39m\u001b[36m \u001b[39m\u001b[32mIn[1]\u001b[39m\u001b[32m, line 2\u001b[39m\n\u001b[31m    \u001b[39m\u001b[31mmiddle_node = None\u001b[39m\n    ^\n\u001b[31mIndentationError\u001b[39m\u001b[31m:\u001b[39m unexpected indent\n"
     ]
    }
   ],
   "source": [
    "# nfs_DoublyLinkedList.py\n",
    "        middle_node = None\n",
    "        if not self.is_empty():\n",
    "            forward = self.head\n",
    "            backward = self.tail\n",
    "            while forward != backward and forward.get_next() != backward:\n",
    "                forward = forward.get_next()\n",
    "                backward = backward.get_prev()\n",
    "            middle_node = forward\n",
    "        return middle_node"
   ]
  },
  {
   "cell_type": "markdown",
   "id": "f503c870",
   "metadata": {},
   "source": [
    "# Detect a loop\n",
    "\n",
    "Another favorite question for a job interview is to tell if a simple (single) linked list has a loop. In this exercise then write a method\n",
    "\n",
    "```python\n",
    "def has_loop(self) -> bool:\n",
    "```\n",
    "\n",
    "that returns `True` is the double linked list has a loop, `False` otherwise. \n"
   ]
  },
  {
   "cell_type": "markdown",
   "id": "737e8afe",
   "metadata": {},
   "source": [
    "## Solution\n",
    "\n",
    "File `nfs_DoublyLinkedList.py` has the method for this exercise. The idea is similar to detecting a loop in a singly-linked list.\n",
    "```python\n",
    "        loop = False\n",
    "        if not self.is_empty():\n",
    "            slow = self.head\n",
    "            fast = self.head\n",
    "            while fast.has_next() and fast.get_next().has_next() and not loop:\n",
    "                slow = slow.get_next()\n",
    "                fast = fast.get_next().get_next()\n",
    "                loop = slow == fast\n",
    "        return loop\n",
    "```"
   ]
  },
  {
   "cell_type": "markdown",
   "id": "10e11334",
   "metadata": {},
   "source": [
    "# Intersection of three linked lists\n",
    "\n",
    "This is an extension of another popular problem: finding the intersection of **two** linked lists, requires partial nested loops. For example, given lists `a` and `b` the following pseudocode should do the trick.\n",
    "\n",
    "```python\n",
    "intersection = False\n",
    "pointer_a = a.head\n",
    "while pointer_a is not None and not intersection:\n",
    "    pointer_b = b.head\n",
    "    while pointer_b is not None and not intersection:\n",
    "        intersection = pointer_a == pointer_b\n",
    "        pointer_b = pointer_b.get_next()\n",
    "    pointer_a = pointer_a.get_next()\n",
    "return intersection\n",
    "```\n",
    "Write a method to find if **three** linked lists have an intersection. Your method should be in the context of class `DoublyLinkedList`:\n",
    "```python\n",
    "def has_intersection(self, a, b) -> bool:\n",
    "```\n",
    "where the invoking list (`self`) is the third list."
   ]
  },
  {
   "cell_type": "markdown",
   "id": "e6d895b8",
   "metadata": {},
   "source": [
    "## Solution"
   ]
  },
  {
   "cell_type": "code",
   "execution_count": null,
   "id": "207edb2d",
   "metadata": {},
   "outputs": [],
   "source": []
  }
 ],
 "metadata": {
  "kernelspec": {
   "display_name": "Python 3",
   "language": "python",
   "name": "python3"
  },
  "language_info": {
   "codemirror_mode": {
    "name": "ipython",
    "version": 3
   },
   "file_extension": ".py",
   "mimetype": "text/x-python",
   "name": "python",
   "nbconvert_exporter": "python",
   "pygments_lexer": "ipython3",
   "version": "3.12.1"
  }
 },
 "nbformat": 4,
 "nbformat_minor": 5
}
