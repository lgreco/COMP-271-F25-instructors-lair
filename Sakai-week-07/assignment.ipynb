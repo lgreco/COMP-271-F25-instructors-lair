{
 "cells": [
  {
   "cell_type": "markdown",
   "id": "1938f63d",
   "metadata": {},
   "source": [
    "# Summary\n",
    "\n",
    "This set comprises ... problems:\n",
    "\n",
    "- \n"
   ]
  },
  {
   "cell_type": "markdown",
   "id": "63788a23",
   "metadata": {},
   "source": [
    "# Middle of a double linked list\n",
    "\n",
    "A popular question in job interviews is to find the middle of a simple linked list, i.e., a list whose nodes point only to the next node which traversing the list once. The trick here is to traverse the list using two different pointers, one twice as fast as the other. When the faster point is at the end of the list, the slower is at the middle. The snippet below shows the idea.\n",
    "```python\n",
    "slow = head\n",
    "fast = head\n",
    "while fast.has_next() and fast.get_next().has_next():\n",
    "    slow = slow.get_next()\n",
    "    fast = fast.get_next().get_next()\n",
    "return slow\n",
    "```\n"
   ]
  }
 ],
 "metadata": {
  "kernelspec": {
   "display_name": "Python 3",
   "language": "python",
   "name": "python3"
  },
  "language_info": {
   "name": "python",
   "version": "3.12.1"
  }
 },
 "nbformat": 4,
 "nbformat_minor": 5
}
