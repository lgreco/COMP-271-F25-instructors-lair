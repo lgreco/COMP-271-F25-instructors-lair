{
 "cells": [
  {
   "cell_type": "markdown",
   "id": "954b7fbe",
   "metadata": {},
   "source": [
    "# Reverse list to string\n",
    "\n",
    "Write a method\n",
    "\n",
    "```python\n",
    "def reverse_list_string(data: list[str], tab_by: int) -> str | None:\n",
    "```\n",
    "\n",
    "that _returns_ a string with the contents of the `data` list in reverse order, one element per line, and each element progressively tabbed by as many spaces as to the right as specified by parameter `tab_by`. If the list is empty or null, the method should return 'None'. For example, if\n",
    "\n",
    "```python\n",
    "data = ['Howard', 'Jarvis', 'Morse', 'Loyola']\n",
    "```\n",
    "\n",
    "and `tab_by = 2`, the method should _return_ the string\n",
    "\n",
    "```python\n",
    "Loyola\n",
    "  Morse\n",
    "    Jarvis\n",
    "      Howard\n",
    "```\n",
    "\n",
    "The method should not use any imported modules nor should it alter the input array `data` in any way. You may not create any temporary arrays either. You may not use methods `join` nor `reversed`. Any loops you use in the method should traverse the input array `data` from front to end. A reverse loop\n",
    "\n",
    "```python\n",
    "    for i in range(len(data)-1, -1, -1): ...\n",
    "```\n",
    "\n",
    "is **not** an acceptable solution, nor is the expression `len(data)-1-i` or its equivalent, anywhere in your code.\n",
    "There should be no magic values in your method. Your method should have one and only one return statement. No inner methods or recursion or negative array indices can be used. The method should have a docstring and should be well narrated with comments.\n"
   ]
  },
  {
   "cell_type": "code",
   "execution_count": null,
   "id": "f5332d48",
   "metadata": {},
   "outputs": [],
   "source": [
    " "
   ]
  },
  {
   "cell_type": "code",
   "execution_count": null,
   "id": "d023cdc9",
   "metadata": {},
   "outputs": [
    {
     "name": "stdout",
     "output_type": "stream",
     "text": [
      "\n",
      "  Loyola\n",
      "    Morse\n",
      "      Jarvis\n",
      "        Howard\n",
      "None\n",
      "None\n"
     ]
    }
   ],
   "source": [
    "TAB_SIZE = 2\n",
    "\n",
    "\n",
    "def reverse_list_string(data: list[str], tab_by: int = TAB_SIZE) -> str | None:\n",
    "\n",
    "    reverse_string = None\n",
    "\n",
    "    if data is not None and len(data) > 0:\n",
    "\n",
    "        SPACING = \" \" * tab_by * len(data)\n",
    "        NEWLINE = \"\\n\"\n",
    "        reverse_string = \"\"\n",
    "\n",
    "        for i in range(len(data)):\n",
    "            reverse_string = NEWLINE + SPACING + data[i] + reverse_string\n",
    "            SPACING = SPACING[tab_by:]\n",
    "\n",
    "    return reverse_string\n",
    "\n",
    "\n",
    "# quick test\n",
    "data = [\"Howard\", \"Jarvis\", \"Morse\", \"Loyola\"]\n",
    "print(reverse_list_string(data))\n",
    "print(reverse_list_string(None))\n",
    "print(reverse_list_string([]))"
   ]
  },
  {
   "cell_type": "code",
   "execution_count": null,
   "id": "e6bdc92c",
   "metadata": {},
   "outputs": [],
   "source": []
  },
  {
   "cell_type": "markdown",
   "id": "69bcaaf9",
   "metadata": {},
   "source": [
    "# Compare list content\n",
    "\n",
    "Write a method\n",
    "\n",
    "```python\n",
    "def measure_similarity(target: list[str], reference: list[str]) -> float:\n",
    "```\n",
    "\n",
    "that returns a value $0 \\leq s \\leq 1$ defined as\n",
    "\n",
    "$$\n",
    "s = \\frac{\\text{number of elements from }\\texttt{target}\\text{ that exist in }\\texttt{reference}}{\\text{number of elements in }\\texttt{target}}\n",
    "$$\n"
   ]
  }
 ],
 "metadata": {
  "kernelspec": {
   "display_name": "Python 3",
   "language": "python",
   "name": "python3"
  },
  "language_info": {
   "codemirror_mode": {
    "name": "ipython",
    "version": 3
   },
   "file_extension": ".py",
   "mimetype": "text/x-python",
   "name": "python",
   "nbconvert_exporter": "python",
   "pygments_lexer": "ipython3",
   "version": "3.12.1"
  }
 },
 "nbformat": 4,
 "nbformat_minor": 5
}
