{
 "cells": [
  {
   "cell_type": "markdown",
   "id": "1938f63d",
   "metadata": {},
   "source": [
    "# Summary\n",
    "\n",
    "This set comprises ... problems:\n",
    "\n",
    "- Middle of double linked list\n",
    "- Loop is double linked list\n"
   ]
  },
  {
   "cell_type": "markdown",
   "id": "63788a23",
   "metadata": {},
   "source": [
    "# Middle of a double linked list\n",
    "\n",
    "A popular question in job interviews is to find the middle of a simple linked list, i.e., a list whose nodes point only to the next node which traversing the list once. The trick here is to traverse the list using two different pointers, one twice as fast as the other. When the faster point is at the end of the list, the slower is at the middle. The snippet below shows the idea.\n",
    "\n",
    "```python\n",
    "slow = head\n",
    "fast = head\n",
    "while fast.has_next() and fast.get_next().has_next():\n",
    "    slow = slow.get_next()\n",
    "    fast = fast.get_next().get_next()\n",
    "return slow\n",
    "```\n",
    "\n",
    "In this exercise, we ask you to find the middle of a double linked list, with pointers that move at the same speed, i.e., one node at a time. Add your method\n",
    "\n",
    "```python\n",
    "def find_middle(self) -> \"Node\" | Node:\n",
    "```\n",
    "\n",
    "in class `DoublyLinkedList`.\n"
   ]
  },
  {
   "cell_type": "markdown",
   "id": "bb612615",
   "metadata": {},
   "source": [
    "## Solution\n",
    "\n",
    "File `SOLUTIONS_DoublyLinkedList.py` has the method for this exercise. The idea is to begin traversing from both ends until the two pointers meet in the middle or near the middle.\n"
   ]
  },
  {
   "cell_type": "code",
   "execution_count": null,
   "id": "3a09388c",
   "metadata": {},
   "outputs": [
    {
     "ename": "IndentationError",
     "evalue": "unexpected indent (658031604.py, line 2)",
     "output_type": "error",
     "traceback": [
      "  \u001b[36mCell\u001b[39m\u001b[36m \u001b[39m\u001b[32mIn[1]\u001b[39m\u001b[32m, line 2\u001b[39m\n\u001b[31m    \u001b[39m\u001b[31mmiddle_node = None\u001b[39m\n    ^\n\u001b[31mIndentationError\u001b[39m\u001b[31m:\u001b[39m unexpected indent\n"
     ]
    }
   ],
   "source": [
    "# SOLUTIONS_DoublyLinkedList.py\n",
    "        middle_node = None\n",
    "        if not self.is_empty():\n",
    "            forward = self.head\n",
    "            backward = self.tail\n",
    "            while forward != backward and forward.get_next() != backward:\n",
    "                forward = forward.get_next()\n",
    "                backward = backward.get_prev()\n",
    "            middle_node = forward\n",
    "        return middle_node"
   ]
  },
  {
   "cell_type": "markdown",
   "id": "f503c870",
   "metadata": {},
   "source": [
    "# Detect a loop\n",
    "\n",
    "Another favorite question for a job interview is to tell if a simple (single) linked list has a loop. The idea is to have two pointers traversing the list at different speeds, specifically one twice as faster as the other. If there is a loop, the pointers eventually will meet. If there is no loop, the faster pointer will reach the end of the list without encountering the other.\n",
    "\n",
    "```python\n",
    "loop = False\n",
    "slow = head\n",
    "fast = head\n",
    "while not loop and fast.has_next() and fast.get_next().has_next():\n",
    "  slow = slow.get_next()\n",
    "  fast = fast.get_next().get_next()\n",
    "  loop = (fast == slow)\n",
    "return loop\n",
    "```\n",
    "\n",
    "Write a method\n",
    "```python\n",
    "def has_loop(self) -> bool:\n",
    "```\n",
    "for the doubly-linked class that does *not* traverse the link with two or even one pointer."
   ]
  },
  {
   "cell_type": "markdown",
   "id": "737e8afe",
   "metadata": {},
   "source": [
    "## Solution\n",
    "The only way for a doubly linked list to have a loop is when both head and tail nodes are self-referencing."
   ]
  },
  {
   "cell_type": "markdown",
   "id": "10e11334",
   "metadata": {},
   "source": [
    "# Detect a gap\n",
    "\n",
    "In a doubly linked list, it is possible that a node may be skipped, as shown in the figures below.\n",
    "\n",
    "![](/workspaces/cta-as-LL-metaphor/Sakai-week-07/DLLGap.png)\n",
    "\n",
    "Write methods\n",
    "```python\n",
    "def has_gap_forward(self) -> bool\n",
    "```\n",
    "and\n",
    "\n",
    "```python\n",
    "def has_gap_backward(self) -> bool\n",
    "```\n",
    "that return `True` is the `DoublyLinkedList` object has a gap in the forward (backward) direction and `False` otherwise.\n",
    "\n",
    "Also write method\n",
    "```python\n",
    "def has_gap_(self) -> bool\n",
    "```\n",
    "\n",
    "that returns `True` is the `DoublyLinkedList` object has a gap either in the forward or the backward direction and `False` otherwise.\n"
   ]
  },
  {
   "cell_type": "markdown",
   "id": "e6d895b8",
   "metadata": {},
   "source": [
    "## Solution\n"
   ]
  },
  {
   "cell_type": "code",
   "execution_count": null,
   "id": "207edb2d",
   "metadata": {},
   "outputs": [],
   "source": [
    "File `SOLUTIONS_DoublyLinkedList.py` has the method for this exercise. The idea is to use a pointer to traverse in one direction, looking at its immediate neihbor in the direction of travel, and check if that neighbor points to the current node. If it doesn't we have found a gap."
   ]
  }
 ],
 "metadata": {
  "kernelspec": {
   "display_name": "Python 3",
   "language": "python",
   "name": "python3"
  },
  "language_info": {
   "codemirror_mode": {
    "name": "ipython",
    "version": 3
   },
   "file_extension": ".py",
   "mimetype": "text/x-python",
   "name": "python",
   "nbconvert_exporter": "python",
   "pygments_lexer": "ipython3",
   "version": "3.12.1"
  }
 },
 "nbformat": 4,
 "nbformat_minor": 5
}
