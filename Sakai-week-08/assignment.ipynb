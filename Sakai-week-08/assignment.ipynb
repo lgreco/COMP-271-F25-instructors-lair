{
 "cells": [
  {
   "cell_type": "markdown",
   "id": "96d08d30",
   "metadata": {},
   "source": [
    "# Outline\n",
    "\n",
    "* Simple hashing - hotel with 26 rooms, labeled A-Z. Guests are assigned to room based on their first name initial. If room occupied guest is not admitted.\n",
    "* Not a good business model. Lots of demand for room `J` and `M` because John, Mary very popular names. Less demand for `X` or `Z`.\n",
    "* Superfast to tell if a person is a guest at the hotel. If room corresponding to person's first name initial is not empty, person with that present. $\\mathcal O(1)$.\n",
    "* Many room remain empty. Introduce probing. John goes to `J`. James cannot go to `J` because John is there but what if the next room `K` is available. James can go there. Now, it may take 2 steps to find if James is in hotel. We expect him in `J` but we'll also probe `K`. Still faster than linear search or binary search. \n",
    "* Eventually we'll end up underutilizing the hotel.\n",
    "\n",
    "# Summary of assignments\n",
    "\n"
   ]
  }
 ],
 "metadata": {
  "language_info": {
   "name": "python"
  }
 },
 "nbformat": 4,
 "nbformat_minor": 5
}
