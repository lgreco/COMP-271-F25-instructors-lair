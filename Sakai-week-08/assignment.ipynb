{
 "cells": [
  {
   "cell_type": "markdown",
   "id": "96d08d30",
   "metadata": {},
   "source": [
    "# Outline\n",
    "\n",
    "* Simple hashing - hotel with 26 rooms, labeled A-Z. Guests are assigned to room based on their first name initial. If room occupied guest is not admitted.\n",
    "* Not a good business model. Lots of demand for room `J` and `M` because John, Mary very popular names. Less demand for `X` or `Z`.\n",
    "* Superfast to tell if a person is a guest at the hotel. If room corresponding to person's first name initial is not empty, person with that present. $\\mathcal O(1)$.\n",
    "* Many room remain empty. Introduce probing. John goes to `J`. James cannot go to `J` because John is there but what if the next room `K` is available. James can go there. Now, it may take 2 steps to find if James is in hotel. We expect him in `J` but we'll also probe `K`. Still faster than linear search or binary search. \n",
    "* Eventually we'll end up underutilizing the hotel. So we reach a compromise, to underutilize storage for the sake of performance.\n",
    "* Demonstrate with a hotel (a list, really) with 1000 rooms where guests are send to a room based on some hash function.\n",
    "* Possible hash: ${\\sum_{i=0}^{\\text{len}(\\texttt{name})} \\texttt{ord(name[i])}}\\bmod 1000$.\n",
    "\n",
    "# Summary of assignments\n",
    "\n"
   ]
  },
  {
   "cell_type": "markdown",
   "id": "6b95a796",
   "metadata": {},
   "source": [
    "# Coming up with the right hash code\n",
    "\n",
    "Consider a hotel with $N$ rooms (maybe, $N=1,024$). Create $N$ guest names. Try to assign them to rooms using a simple hashcode and measure how many collisions you detect.\n",
    "\n",
    "For this exercise you'll have to write several methods to manage the complexity of the problem. Class `simulate_collisions.py` suggests an outline for these methods -- you don't have to follow it if you prefer a different approach.\n",
    "\n",
    "For a simple hashcode, implement the following function.\n",
    "\n",
    "$$\n",
    "\\text{hashcode}(\\texttt{name}) = \\left( \\sum_{i=0}^{\\text{len}(\\texttt{name})} \\texttt{ord(name[i])} \\right) \\bmod N\n",
    "$$\n",
    "\n",
    "Since you are using a random string generator, you may want to run the code a few times and compute the average number of collisions.\n",
    "\n",
    "Next, change the hashcode to a slightly different function:\n",
    "\n",
    "$$\n",
    "\\text{hashcode}(\\texttt{name}) = \\left( \\prod_{i=0}^{\\text{len}(\\texttt{name})} \\texttt{ord(name[i])} \\right) \\bmod N\n",
    "$$\n",
    "and repeat the measurements. \n",
    "\n",
    "Next, change the hashcode to a more sophisticated function:\n",
    "\n",
    "$$\n",
    "\\text{hashcode}(\\texttt{name}) = \\left( \\sum_{i=0}^{\\text{len}(\\texttt{name})} \\texttt{ord(name[i])}\\times 31^{\\text{len}(\\texttt{name})-1-i} \\right) \\bmod N\n",
    "$$\n",
    "and repeat the measurements. \n",
    "\n",
    "\n",
    "What do you observe, and why you think it is?\n",
    "\n"
   ]
  },
  {
   "cell_type": "code",
   "execution_count": 78,
   "id": "3e15acb0",
   "metadata": {},
   "outputs": [
    {
     "name": "stdout",
     "output_type": "stream",
     "text": [
      "Average success over 10 simulations: 647.5\n"
     ]
    }
   ],
   "source": [
    "DEFAULT_MIN_LENGTH = 10\n",
    "DEFAULT_MAX_LENGTH = 15\n",
    "ASCII_OFFSET = ord('A')\n",
    "ASCII_SIZE = 26\n",
    "N = 1_024\n",
    "\n",
    "hotel = [None] * N\n",
    "\n",
    "import random\n",
    "\n",
    "def generate_random_string(min_length=DEFAULT_MIN_LENGTH, max_length=DEFAULT_MAX_LENGTH):\n",
    "    length = random.randint(min_length, max_length)\n",
    "    return ''.join(chr(ASCII_OFFSET + random.randint(0, ASCII_SIZE - 1)) for _ in range(length))\n",
    "\n",
    "def hashcode(name:str) -> int:\n",
    "    h = 0\n",
    "    for char in name:\n",
    "        h = (h * 31 + ord(char)) \n",
    "    return h\n",
    "\n",
    "def hash_function(name:str) -> int:\n",
    "    return hashcode(name) % N\n",
    "\n",
    "def check_in(name:str) -> bool:\n",
    "    h = hash_function(name)\n",
    "    if hotel[h] is None:\n",
    "        hotel[h] = name\n",
    "        return True\n",
    "    else:\n",
    "        return False\n",
    "\n",
    "def simulate_check_in(num_guests:int = N) -> int:\n",
    "    success = 0\n",
    "    for _ in range(num_guests):\n",
    "        name = generate_random_string()\n",
    "        if check_in(name):\n",
    "            success += 1\n",
    "    return success\n",
    "\n",
    "def main():\n",
    "    num_guests = N\n",
    "    num_simulations = 10\n",
    "    total_success = 0\n",
    "    for _ in range(num_simulations):\n",
    "        global hotel\n",
    "        hotel = [None] * N\n",
    "        current_success = simulate_check_in(num_guests)\n",
    "        total_success += current_success\n",
    "\n",
    "    print(f\"Average success over {num_simulations} simulations: {total_success / num_simulations}\")\n",
    "\n",
    "if __name__ == \"__main__\":\n",
    "    main()"
   ]
  },
  {
   "cell_type": "code",
   "execution_count": null,
   "id": "3eef55ef",
   "metadata": {},
   "outputs": [],
   "source": []
  }
 ],
 "metadata": {
  "kernelspec": {
   "display_name": "Python 3",
   "language": "python",
   "name": "python3"
  },
  "language_info": {
   "codemirror_mode": {
    "name": "ipython",
    "version": 3
   },
   "file_extension": ".py",
   "mimetype": "text/x-python",
   "name": "python",
   "nbconvert_exporter": "python",
   "pygments_lexer": "ipython3",
   "version": "3.12.1"
  }
 },
 "nbformat": 4,
 "nbformat_minor": 5
}
