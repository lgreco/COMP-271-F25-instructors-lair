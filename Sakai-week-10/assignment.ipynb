{
 "cells": [
  {
   "cell_type": "markdown",
   "id": "1649243c",
   "metadata": {},
   "source": [
    "# Binary search in linked list\n",
    "\n",
    "Consider a linked list with $n$ elements that are already sorted. Discuss why binary search through a sorted linkedlist is not any more efficient than linear search through it. Then suggest a modification to the linked list structure that will make binary search efficient.\n",
    "\n",
    "No code is required for this problem. Your solution should be a qualitative argument.\n",
    "\n",
    "---\n",
    "\n",
    "## SOLUTION\n",
    "\n",
    "Searching for the middle node in a linked list is already $\\mathcal O(n)$. To make binary search efficient through a linked list we need to add a `middle` pointer and keep it updated through insertions and removals."
   ]
  },
  {
   "cell_type": "markdown",
   "id": "0fbfb680",
   "metadata": {},
   "source": [
    "# Modify binary search to count occurrences\n",
    "\n",
    "Write a method \n",
    "```python\n",
    "def "
   ]
  }
 ],
 "metadata": {
  "kernelspec": {
   "display_name": "Python 3",
   "language": "python",
   "name": "python3"
  },
  "language_info": {
   "codemirror_mode": {
    "name": "ipython",
    "version": 3
   },
   "file_extension": ".py",
   "mimetype": "text/x-python",
   "name": "python",
   "nbconvert_exporter": "python",
   "pygments_lexer": "ipython3",
   "version": "3.12.1"
  }
 },
 "nbformat": 4,
 "nbformat_minor": 5
}
