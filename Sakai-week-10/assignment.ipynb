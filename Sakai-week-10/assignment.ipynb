{
 "cells": [
  {
   "cell_type": "markdown",
   "id": "ec01a133",
   "metadata": {},
   "source": [
    "# Outline\n",
    "\n",
    "- Sorting data: from naive to sophisticated.\n",
    "- How to measure performance. Big-oh notation. Asymptotic behavior\n",
    "- Binary search.\n",
    "- Other topics to discuss:\n",
    "  - Examples here are done with lists of integer values, but can be generalized to any object that has a comparable method (discuss how define `__lt__` for that purpose).\n",
    "  - Maybe a good time to introduce generics in Python.\n",
    "  - In place v. return sort\n",
    "\n",
    "# Summary of assignments\n",
    "\n",
    "This assignment comprises \\*\\*\\* problems.\n",
    "\n",
    "- ...\n"
   ]
  },
  {
   "cell_type": "markdown",
   "id": "44e619fe",
   "metadata": {},
   "source": [
    "# Naive sorting\n",
    "\n",
    "Bubble sort in array with $n$ elements performs $n$ iterations. In the first iterations there are $n$ passes, in the second $n-1$, and so on. The last iteration performs a single pass. The total number of passes is\n",
    "\n",
    "$$ 1 + 2 + \\ldots + n = \\frac{n(n+1)}{2} $$\n"
   ]
  },
  {
   "cell_type": "code",
   "execution_count": null,
   "id": "7e4bb6e0",
   "metadata": {},
   "outputs": [],
   "source": [
    "def naive_sort(arr: list) -> list:\n",
    "    \"\"\"Naive sort implementation using bubble sort algorithm.\"\"\"\n",
    "    n: int = len(arr)\n",
    "    for i in range(n):\n",
    "        for j in range(0, n - i - 1):\n",
    "            if arr[j] > arr[j + 1]:\n",
    "                # Use plain swap instead of Pythonic tuple swap for clarity\n",
    "                # Αlso good opportunity to discuss swapping without a temp variable\n",
    "                # and without tupple unpacking (XOR or addition/subtraction based)\n",
    "                temp = arr[j]\n",
    "                arr[j] = arr[j + 1]\n",
    "                arr[j + 1] = temp\n",
    "    return arr"
   ]
  },
  {
   "cell_type": "markdown",
   "id": "82a1bb48",
   "metadata": {},
   "source": [
    "# Merge of two sorted arrays\n"
   ]
  },
  {
   "cell_type": "code",
   "execution_count": null,
   "id": "d7dc5d27",
   "metadata": {},
   "outputs": [],
   "source": [
    "def merge(arr1: list, arr2: list) -> list:\n",
    "    \"\"\"Merge two sorted arrays into a single sorted array. Avoid Pythonic code\n",
    "    with list.extend() or list slicing for clarity.\"\"\"\n",
    "    merged: list = [None] * (len(arr1) + len(arr2))\n",
    "    i: int = 0\n",
    "    j: int = 0\n",
    "    k: int = 0\n",
    "    while i < len(arr1) and j < len(arr2):\n",
    "        if arr1[i] < arr2[j]:\n",
    "            merged[k] = arr1[i]\n",
    "            i += 1\n",
    "        else:\n",
    "            merged[k] = arr2[j]\n",
    "            j += 1\n",
    "        k += 1\n",
    "    # Fill any remaining elements from either array\n",
    "    while i < len(arr1):\n",
    "        merged[k] = arr1[i]\n",
    "        i += 1\n",
    "        k += 1\n",
    "    while j < len(arr2):\n",
    "        merged[k] = arr2[j]\n",
    "        j += 1\n",
    "        k += 1\n",
    "    return merged"
   ]
  },
  {
   "cell_type": "markdown",
   "id": "f1d5c24a",
   "metadata": {},
   "source": [
    "## Demonstrate `merge`\n"
   ]
  },
  {
   "cell_type": "code",
   "execution_count": null,
   "id": "002bd957",
   "metadata": {},
   "outputs": [
    {
     "name": "stdout",
     "output_type": "stream",
     "text": [
      "[0, 1, 2, 3, 4, 5, 6, 7]\n"
     ]
    }
   ],
   "source": [
    "abcd = [0, 2, 4, 6]\n",
    "efgh = [1, 3, 5, 7]\n",
    "abcdefgh = merge(abcd, efgh)\n",
    "print(abcdefgh)"
   ]
  },
  {
   "cell_type": "code",
   "execution_count": 11,
   "id": "1553b494",
   "metadata": {},
   "outputs": [
    {
     "name": "stdout",
     "output_type": "stream",
     "text": [
      "[0, 1, 2, 3, 4, 5, 6, 7]\n"
     ]
    }
   ],
   "source": [
    "a = [6]\n",
    "b = [5]\n",
    "c = [1]\n",
    "d = [0]\n",
    "e = [2]\n",
    "f = [4]\n",
    "g = [3]\n",
    "h = [7]\n",
    "\n",
    "print(merge(merge(merge(a, b), merge(c, d)), merge(merge(e, f), merge(g, h))))"
   ]
  },
  {
   "cell_type": "markdown",
   "id": "88ff11cb",
   "metadata": {},
   "source": []
  }
 ],
 "metadata": {
  "kernelspec": {
   "display_name": "Python 3",
   "language": "python",
   "name": "python3"
  },
  "language_info": {
   "codemirror_mode": {
    "name": "ipython",
    "version": 3
   },
   "file_extension": ".py",
   "mimetype": "text/x-python",
   "name": "python",
   "nbconvert_exporter": "python",
   "pygments_lexer": "ipython3",
   "version": "3.12.1"
  }
 },
 "nbformat": 4,
 "nbformat_minor": 5
}
