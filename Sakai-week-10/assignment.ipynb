{
 "cells": [
  {
   "cell_type": "markdown",
   "id": "ec01a133",
   "metadata": {},
   "source": [
    "# Outline\n",
    "\n",
    "* Sorting data: from naive to sophisticated.\n",
    "* How to measure performance. Big-oh notation. Asymptotic behavior\n",
    "* Binary search.\n",
    "* Other topics to discuss:\n",
    "  * Examples here are done with lists of integer values, but can be generalized to any object that has a comparable method (discuss how define `__lt__` for that purpose)\n",
    "  * In place v. return sort\n",
    "\n",
    "# Summary of assignments\n",
    "\n",
    "This assignment comprises *** problems.\n",
    "\n",
    "* ...\n",
    "\n"
   ]
  },
  {
   "cell_type": "markdown",
   "id": "44e619fe",
   "metadata": {},
   "source": [
    "# Naive sorting\n",
    "\n",
    "Bubble sort in array with $n$ elements performs $n$ iterations. In the first iterations there are $n$ passes, in the second $n-1$, and so on. The last iteration performs a single pass. The total number of passes is\n",
    "\n",
    "$$ 1 + 2 + \\ldots + n = \\frac{n(n+1)}{2} $$\n"
   ]
  },
  {
   "cell_type": "code",
   "execution_count": null,
   "id": "7e4bb6e0",
   "metadata": {},
   "outputs": [],
   "source": [
    "def naive_sort(arr: list) -> list:\n",
    "    \"\"\"Naive sort implementation using bubble sort algorithm.\"\"\"\n",
    "    n: int = len(arr)\n",
    "    for i in range(n):\n",
    "        for j in range(0, n-i-1):\n",
    "            if arr[j] > arr[j+1]:\n",
    "                # Use plain swap instead of Pythonic tuple swap for clarity\n",
    "                # Αlso good opportunity to discuss swapping without a temp variable\n",
    "                # and without tupple unpacking (XOR or addition/subtraction based)\n",
    "                temp = arr[j]\n",
    "                arr[j] = arr[j+1]\n",
    "                arr[j+1] = temp\n",
    "    return arr"
   ]
  },
  {
   "cell_type": "markdown",
   "id": "82a1bb48",
   "metadata": {},
   "source": [
    "# Merge of two sorted arrays"
   ]
  },
  {
   "cell_type": "code",
   "execution_count": null,
   "id": "d7dc5d27",
   "metadata": {},
   "outputs": [],
   "source": [
    "def merge_sorted(arr1: list, arr2: list) -> list:\n",
    "    \"\"\"Merge two sorted arrays into a single sorted array. Avoid Pythonic code\n",
    "    with list.extend() or list slicing for clarity.\"\"\"\n",
    "    merged: list = [None] * (len(arr1) + len(arr2))\n",
    "    i, j, k = 0, 0, 0\n",
    "    while i < len(arr1) and j < len(arr2):\n",
    "        if arr1[i] < arr2[j]:\n",
    "            merged[k] = arr1[i]\n",
    "            i += 1\n",
    "        else:\n",
    "            merged[k] = arr2[j]\n",
    "            j += 1\n",
    "        k += 1\n",
    "    # Fill any remaining elements from either array\n",
    "    while i < len(arr1):\n",
    "        merged[k] = arr1[i]\n",
    "        i += 1\n",
    "        k += 1\n",
    "    while j < len(arr2):\n",
    "        merged[k] = arr2[j]\n",
    "        j += 1\n",
    "        k += 1\n",
    "    return merged"
   ]
  },
  {
   "cell_type": "markdown",
   "id": "88ff11cb",
   "metadata": {},
   "source": []
  }
 ],
 "metadata": {
  "language_info": {
   "name": "python"
  }
 },
 "nbformat": 4,
 "nbformat_minor": 5
}
